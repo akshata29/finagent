{
 "cells": [
  {
   "cell_type": "code",
   "execution_count": 1,
   "metadata": {},
   "outputs": [],
   "source": [
    "import asyncio\n",
    "from autogen_agentchat.agents import AssistantAgent\n",
    "from autogen_ext.models.openai import AzureOpenAIChatCompletionClient\n",
    "from dutils import get_current_date\n",
    "import os\n",
    "from azure.identity.aio import (ClientSecretCredential, DefaultAzureCredential,\n",
    "                                get_bearer_token_provider)\n",
    "from autogen_agentchat.agents import UserProxyAgent\n",
    "from fmputils import *\n",
    "from yfutils import *\n",
    "from autogen_core.tools import FunctionTool\n",
    "from autogen_agentchat.teams import RoundRobinGroupChat\n",
    "from autogen_agentchat.ui import Console\n",
    "from datetime import date, timedelta, datetime"
   ]
  },
  {
   "cell_type": "code",
   "execution_count": 2,
   "metadata": {},
   "outputs": [
    {
     "data": {
      "text/plain": [
       "True"
      ]
     },
     "execution_count": 2,
     "metadata": {},
     "output_type": "execute_result"
    }
   ],
   "source": [
    "from dotenv import load_dotenv\n",
    "load_dotenv(\".env\", override=True)"
   ]
  },
  {
   "cell_type": "code",
   "execution_count": 3,
   "metadata": {},
   "outputs": [],
   "source": [
    "def GetTokenProvider(scopes):\n",
    "    return get_bearer_token_provider(DefaultAzureCredential(), scopes)"
   ]
  },
  {
   "cell_type": "code",
   "execution_count": 4,
   "metadata": {},
   "outputs": [],
   "source": [
    "model_client = AzureOpenAIChatCompletionClient(\n",
    "    azure_deployment=os.getenv('AZURE_OPENAI_DEPLOYMENT_NAME'),\n",
    "    azure_endpoint=os.getenv('AZURE_OPENAI_ENDPOINT'),\n",
    "    model=\"gpt-4o\",\n",
    "    api_version=os.getenv('AZURE_OPENAI_API_VERSION'),\n",
    "    # azure_ad_token_provider=GetTokenProvider(\n",
    "    #                 \"https://cognitiveservices.azure.com/.default\"\n",
    "    #             ),\n",
    "    api_key=os.getenv('AZURE_OPENAI_KEY'),\n",
    "    model_capabilities={\n",
    "        \"vision\": False,\n",
    "        \"function_calling\": True,\n",
    "        \"json_output\": True,\n",
    "    }\n",
    ")"
   ]
  },
  {
   "cell_type": "code",
   "execution_count": 5,
   "metadata": {},
   "outputs": [],
   "source": [
    "get_company_info = FunctionTool(yfUtils.get_company_info, description=\"get a company's profile information\")\n",
    "get_stock_data = FunctionTool(yfUtils.get_stock_data, description=\"retrieve stock price data for designated ticker symbol\")\n",
    "get_financial_metrics = FunctionTool(fmpUtils.get_financial_metrics, description=\"get latest financial basics for a designated company\")\n",
    "get_company_news = FunctionTool(fmpUtils.get_company_news, description=\"retrieve market news related to designated company\")\n",
    "get_analyst_recommendations = FunctionTool(yfUtils.get_analyst_recommendations, description=\"get analyst recommendation for a designated company\")"
   ]
  },
  {
   "cell_type": "code",
   "execution_count": 6,
   "metadata": {},
   "outputs": [],
   "source": [
    "analyst_agent = AssistantAgent(\n",
    "    name=\"Market_Analyst\",\n",
    "    system_message=\"As a Market Analyst, one must possess strong analytical and problem-solving abilities, collect necessary financial information and aggregate them based on client's requirement.\"\n",
    "    \"For coding tasks, only use the functions you have been provided with. Reply TERMINATE when the task is done.\",\n",
    "    model_client=model_client,\n",
    "    tools=[get_company_info, get_stock_data, get_financial_metrics, get_analyst_recommendations, get_company_news]\n",
    ")"
   ]
  },
  {
   "cell_type": "code",
   "execution_count": 7,
   "metadata": {},
   "outputs": [
    {
     "name": "stdout",
     "output_type": "stream",
     "text": [
      "   quarter  year                 date  \\\n",
      "0        4  2024  2024-10-31 17:00:00   \n",
      "1        3  2024  2024-08-01 17:00:00   \n",
      "2        2  2024  2024-05-02 17:00:00   \n",
      "3        1  2024  2024-02-01 17:00:00   \n",
      "\n",
      "                                             content  \n",
      "0  Suhasini Chandramouli: Good afternoon, and wel...  \n",
      "1  Suhasini Chandramouli: Good afternoon and welc...  \n",
      "2  Suhasini Chandramouli: Good Afternoon, and wel...  \n",
      "3  Operator: Good day, and welcome to the Apple Q...  \n"
     ]
    }
   ],
   "source": [
    "url = f\"https://financialmodelingprep.com/api/v4/batch_earning_call_transcript/AAPL?year=2024&apikey=4121cd4474b95b5c315eaf4cd3189606\"\n",
    "\n",
    "response = requests.get(url)\n",
    "transcripts=[]\n",
    "\n",
    "if response.status_code == 200:\n",
    "    data = response.json()\n",
    "    transcripts = [\n",
    "        {\n",
    "            \"quarter\": n[\"quarter\"],\n",
    "            \"year\": n[\"year\"],\n",
    "            \"date\": n[\"date\"],\n",
    "            \"content\": n[\"content\"],\n",
    "        }\n",
    "        for n in data\n",
    "    ]\n",
    "    output = pd.DataFrame(transcripts)\n",
    "    print(output)"
   ]
  },
  {
   "cell_type": "code",
   "execution_count": 8,
   "metadata": {},
   "outputs": [
    {
     "name": "stdout",
     "output_type": "stream",
     "text": [
      "FMP api key found successfully.\n",
      "   quarter  year                 date  \\\n",
      "0        4  2024  2024-10-31 17:00:00   \n",
      "1        3  2024  2024-08-01 17:00:00   \n",
      "2        2  2024  2024-05-02 17:00:00   \n",
      "3        1  2024  2024-02-01 17:00:00   \n",
      "\n",
      "                                             content  \n",
      "0  Suhasini Chandramouli: Good afternoon, and wel...  \n",
      "1  Suhasini Chandramouli: Good afternoon and welc...  \n",
      "2  Suhasini Chandramouli: Good Afternoon, and wel...  \n",
      "3  Operator: Good day, and welcome to the Apple Q...  \n"
     ]
    }
   ],
   "source": [
    "print(fmpUtils.get_earning_calls(\"AAPL\"))"
   ]
  },
  {
   "cell_type": "code",
   "execution_count": 8,
   "metadata": {},
   "outputs": [],
   "source": [
    "team = RoundRobinGroupChat([analyst_agent], max_turns=3)"
   ]
  },
  {
   "cell_type": "code",
   "execution_count": 9,
   "metadata": {},
   "outputs": [
    {
     "name": "stdout",
     "output_type": "stream",
     "text": [
      "---------- user ----------\n",
      "Use all the tools provided to retrieve information available for Microsoft upon 2025-01-18. Analyze the positive developments and potential concerns of Microsoft with 2-4 most important factors respectively and keep them concise. Most factors should be inferred from company related news. Then make a rough prediction (e.g. up/down by 2-3%) of the Microsoft stock price movement for next week. Provide a summary analysis to support your prediction.\n",
      "FMP api key found successfully.\n",
      "FMP api key found successfully.\n",
      "---------- Market_Analyst ----------\n",
      "[FunctionCall(id='call_V3baVXCrm7aNoIeEy9VeKtsd', arguments='{\"symbol\": \"MSFT\"}', name='get_company_info'), FunctionCall(id='call_YDxYoPOj5sXeZ3x4hXXCBksz', arguments='{\"symbol\": \"MSFT\", \"start_date\": \"2025-01-11\", \"end_date\": \"2025-01-18\"}', name='get_stock_data'), FunctionCall(id='call_KI96nZCopZD1cAGziajCldbP', arguments='{\"ticker_symbol\": \"MSFT\"}', name='get_financial_metrics'), FunctionCall(id='call_TqLyE6earWKvGH4RywK8Ace7', arguments='{\"symbol\": \"MSFT\"}', name='get_analyst_recommendations'), FunctionCall(id='call_2HXd9gABakP0bjmnzXBBcMc3', arguments='{\"ticker_symbol\": \"MSFT\", \"start_date\": \"2025-01-01\", \"end_date\": \"2025-01-18\", \"max_news_num\": 10}', name='get_company_news')]\n"
     ]
    },
    {
     "name": "stderr",
     "output_type": "stream",
     "text": [
      "d:\\repos\\secagent\\src\\backend\\yfutils.py:34: RuntimeWarning: coroutine 'save_output' was never awaited\n",
      "  save_output(stock_data, f\"Stock data for {ticker.ticker}\", save_path)\n",
      "RuntimeWarning: Enable tracemalloc to get the object allocation traceback\n"
     ]
    },
    {
     "name": "stdout",
     "output_type": "stream",
     "text": [
      "---------- Market_Analyst ----------\n",
      "[FunctionExecutionResult(content='            Company Name                   Industry      Sector  \\\\\\n0  Microsoft Corporation  Software - Infrastructure  Technology   \\n\\n         Country                    Website  \\n0  United States  https://www.microsoft.com  ', call_id='call_V3baVXCrm7aNoIeEy9VeKtsd'), FunctionExecutionResult(content='                                 Open        High         Low       Close  \\\\\\nDate                                                                        \\n2025-01-13 00:00:00-05:00  415.239990  418.500000  412.290009  417.190002   \\n2025-01-14 00:00:00-05:00  417.809998  419.739990  410.720001  415.670013   \\n2025-01-15 00:00:00-05:00  419.130005  428.149994  418.269989  426.309998   \\n2025-01-16 00:00:00-05:00  428.700012  429.489990  424.390015  424.579987   \\n2025-01-17 00:00:00-05:00  434.089996  434.480011  428.170013  429.029999   \\n\\n                             Volume  Dividends  Stock Splits  \\nDate                                                          \\n2025-01-13 00:00:00-05:00  17604800        0.0           0.0  \\n2025-01-14 00:00:00-05:00  16935900        0.0           0.0  \\n2025-01-15 00:00:00-05:00  19637800        0.0           0.0  \\n2025-01-16 00:00:00-05:00  15300000        0.0           0.0  \\n2025-01-17 00:00:00-05:00  26148000        0.0           0.0  ', call_id='call_YDxYoPOj5sXeZ3x4hXXCBksz'), FunctionExecutionResult(content='                  2021    2022    2023    2024\\nRevenue         168088  198270  211915  245122\\nRevenue Growth  -15.2%   -6.4%  -13.5%   45.8%\\nGross Revenue   115856  135620  146052  171008\\nGross Margin      0.69    0.68    0.69     0.7\\nEBITDA           84348  100239  105140  133009\\nEBITDA Margin      0.5     0.5     0.5    0.54\\nFCF              76740   89035   87582  118548\\nFCF Conversion    1.25    1.22    1.21    1.35\\nROIC             23.5%   26.3%   22.6%   22.3%\\nEV/EBITDA        25.05   19.85   24.54   26.11\\nPE Ratio         33.37   26.47   35.04   38.51\\nPB Ratio          14.4   11.56    12.3   12.64', call_id='call_KI96nZCopZD1cAGziajCldbP'), FunctionExecutionResult(content=\"('buy', 39)\", call_id='call_TqLyE6earWKvGH4RywK8Ace7'), FunctionExecutionResult(content=\"                  date                                           headline  \\\\\\n0  2025-01-15 21:01:24  Biden's executive order on AI data centers cou...   \\n1  2025-01-16 05:37:00  Prediction: 1 Stock That Will Be Worth More Th...   \\n2  2025-01-16 05:45:00  Missed Out on Nvidia? Billionaires Have Been B...   \\n3  2025-01-16 08:40:40  IonQ Soars Over 33% After Microsoft's Bold Cal...   \\n4  2025-01-16 18:05:58  Microsoft 365 Is Adding Copilot AI Tools. It's...   \\n5  2025-01-17 08:45:20  Magnificent 7 Earnings Hinge On AI Payoff: Ana...   \\n6  2025-01-17 09:20:04  Prediction: Microsoft (MSFT) Is Going to Save ...   \\n7  2025-01-18 06:00:00  Possible Stock Splits in 2025: 2 Artificial In...   \\n8  2025-01-18 06:00:00  Possible Stock Splits in 2025: 2 Artificial In...   \\n9  2025-01-18 15:48:56  FTC says partnerships like Microsoft-OpenAI ra...   \\n\\n                                             summary  \\n0  President Joe Biden this week issued one of hi...  \\n1  Nvidia (NVDA 3.40%) has become the second-larg...  \\n2  Nvidia has been one of the best-performing sto...  \\n3  Shares of IonQ Inc. IONQ enjoyed a quantum lea...  \\n4  Microsoft (MSFT) is bringing its Copilot artif...  \\n5  The Magnificent Seven earnings season is here,...  \\n6  [00:00:04] Douglas McIntyre: So Microsoft anno...  \\n7  Companies will commonly split their stock afte...  \\n8  Companies will commonly split their stock afte...  \\n9  The Federal Trade Commission said in a staff r...  \", call_id='call_2HXd9gABakP0bjmnzXBBcMc3')]\n",
      "---------- Market_Analyst ----------\n",
      "            Company Name                   Industry      Sector  \\\n",
      "0  Microsoft Corporation  Software - Infrastructure  Technology   \n",
      "\n",
      "         Country                    Website  \n",
      "0  United States  https://www.microsoft.com  \n",
      "                                 Open        High         Low       Close  \\\n",
      "Date                                                                        \n",
      "2025-01-13 00:00:00-05:00  415.239990  418.500000  412.290009  417.190002   \n",
      "2025-01-14 00:00:00-05:00  417.809998  419.739990  410.720001  415.670013   \n",
      "2025-01-15 00:00:00-05:00  419.130005  428.149994  418.269989  426.309998   \n",
      "2025-01-16 00:00:00-05:00  428.700012  429.489990  424.390015  424.579987   \n",
      "2025-01-17 00:00:00-05:00  434.089996  434.480011  428.170013  429.029999   \n",
      "\n",
      "                             Volume  Dividends  Stock Splits  \n",
      "Date                                                          \n",
      "2025-01-13 00:00:00-05:00  17604800        0.0           0.0  \n",
      "2025-01-14 00:00:00-05:00  16935900        0.0           0.0  \n",
      "2025-01-15 00:00:00-05:00  19637800        0.0           0.0  \n",
      "2025-01-16 00:00:00-05:00  15300000        0.0           0.0  \n",
      "2025-01-17 00:00:00-05:00  26148000        0.0           0.0  \n",
      "                  2021    2022    2023    2024\n",
      "Revenue         168088  198270  211915  245122\n",
      "Revenue Growth  -15.2%   -6.4%  -13.5%   45.8%\n",
      "Gross Revenue   115856  135620  146052  171008\n",
      "Gross Margin      0.69    0.68    0.69     0.7\n",
      "EBITDA           84348  100239  105140  133009\n",
      "EBITDA Margin      0.5     0.5     0.5    0.54\n",
      "FCF              76740   89035   87582  118548\n",
      "FCF Conversion    1.25    1.22    1.21    1.35\n",
      "ROIC             23.5%   26.3%   22.6%   22.3%\n",
      "EV/EBITDA        25.05   19.85   24.54   26.11\n",
      "PE Ratio         33.37   26.47   35.04   38.51\n",
      "PB Ratio          14.4   11.56    12.3   12.64\n",
      "('buy', 39)\n",
      "                  date                                           headline  \\\n",
      "0  2025-01-15 21:01:24  Biden's executive order on AI data centers cou...   \n",
      "1  2025-01-16 05:37:00  Prediction: 1 Stock That Will Be Worth More Th...   \n",
      "2  2025-01-16 05:45:00  Missed Out on Nvidia? Billionaires Have Been B...   \n",
      "3  2025-01-16 08:40:40  IonQ Soars Over 33% After Microsoft's Bold Cal...   \n",
      "4  2025-01-16 18:05:58  Microsoft 365 Is Adding Copilot AI Tools. It's...   \n",
      "5  2025-01-17 08:45:20  Magnificent 7 Earnings Hinge On AI Payoff: Ana...   \n",
      "6  2025-01-17 09:20:04  Prediction: Microsoft (MSFT) Is Going to Save ...   \n",
      "7  2025-01-18 06:00:00  Possible Stock Splits in 2025: 2 Artificial In...   \n",
      "8  2025-01-18 06:00:00  Possible Stock Splits in 2025: 2 Artificial In...   \n",
      "9  2025-01-18 15:48:56  FTC says partnerships like Microsoft-OpenAI ra...   \n",
      "\n",
      "                                             summary  \n",
      "0  President Joe Biden this week issued one of hi...  \n",
      "1  Nvidia (NVDA 3.40%) has become the second-larg...  \n",
      "2  Nvidia has been one of the best-performing sto...  \n",
      "3  Shares of IonQ Inc. IONQ enjoyed a quantum lea...  \n",
      "4  Microsoft (MSFT) is bringing its Copilot artif...  \n",
      "5  The Magnificent Seven earnings season is here,...  \n",
      "6  [00:00:04] Douglas McIntyre: So Microsoft anno...  \n",
      "7  Companies will commonly split their stock afte...  \n",
      "8  Companies will commonly split their stock afte...  \n",
      "9  The Federal Trade Commission said in a staff r...  \n",
      "---------- Market_Analyst ----------\n",
      "### Positive Developments for Microsoft:\n",
      " \n",
      "1. **AI and Innovation Focus**: Microsoft is actively integrating AI across its products, evident from the introduction of Copilot AI tools in Microsoft 365. This move enhances productivity features and is likely to attract more enterprise clients, reflecting positive innovation growth.\n",
      "\n",
      "2. **Strong Financial Performance**: Microsoft's financial metrics demonstrate robust growth, with revenue increasing to $245.1 billion in 2024 from $198.3 billion in 2022. EBITDA margins have improved, showing financial resilience and operational efficiency.\n",
      "\n",
      "3. **Improved Analyst Sentiment**: Microsoft's stock is predominantly rated as a 'buy' by 39 analysts, indicating high market confidence in the company's future prospects.\n",
      "\n",
      "### Potential Concerns for Microsoft:\n",
      "\n",
      "1. **Regulatory Scrutiny**: The FTC has expressed concerns over partnerships like Microsoft-OpenAI which could raise anti-competitive issues. This scrutiny can lead to potential regulatory hurdles affecting strategic alliances.\n",
      "\n",
      "2. **Dependency on AI Success**: A significant portion of Microsoft's growth expectation hinges on AI advancements. Any setbacks in AI development or market adoption could impact long-term growth trajectories.\n",
      "\n",
      "3. **Market Competition**: Despite positive innovation, the tech sector is highly competitive, with rivals equally investing heavily in AI and cloud services, which might affect Microsoft's market share.\n",
      "\n",
      "### Stock Price Prediction:\n",
      "\n",
      "Based on current developments and market conditions, I predict Microsoft's stock price may rise by approximately 2-3% over the next week. This prediction considers:\n",
      "\n",
      "- **Strong financial growth and analyst sentiment**, suggesting a robust market position that can drive stock appreciation.\n",
      "- **Positive market reception to AI developments**, which could lead to increased investor interest.\n",
      "- **Potential short-term volatility due to regulatory scrutiny**, but nothing immediate suggests a sharp decline in confidence or capability.\n",
      "\n",
      "Overall, Microsoft's strong financial health and innovation in AI tools are likely to outweigh current concerns, fostering a mild uptick in stock price. TERMINATE\n",
      "---------- Market_Analyst ----------\n",
      "TERMINATE\n"
     ]
    },
    {
     "data": {
      "text/plain": [
       "TaskResult(messages=[TextMessage(source='user', models_usage=None, content='Use all the tools provided to retrieve information available for Microsoft upon 2025-01-18. Analyze the positive developments and potential concerns of Microsoft with 2-4 most important factors respectively and keep them concise. Most factors should be inferred from company related news. Then make a rough prediction (e.g. up/down by 2-3%) of the Microsoft stock price movement for next week. Provide a summary analysis to support your prediction.', type='TextMessage'), ToolCallRequestEvent(source='Market_Analyst', models_usage=RequestUsage(prompt_tokens=519, completion_tokens=149), content=[FunctionCall(id='call_V3baVXCrm7aNoIeEy9VeKtsd', arguments='{\"symbol\": \"MSFT\"}', name='get_company_info'), FunctionCall(id='call_YDxYoPOj5sXeZ3x4hXXCBksz', arguments='{\"symbol\": \"MSFT\", \"start_date\": \"2025-01-11\", \"end_date\": \"2025-01-18\"}', name='get_stock_data'), FunctionCall(id='call_KI96nZCopZD1cAGziajCldbP', arguments='{\"ticker_symbol\": \"MSFT\"}', name='get_financial_metrics'), FunctionCall(id='call_TqLyE6earWKvGH4RywK8Ace7', arguments='{\"symbol\": \"MSFT\"}', name='get_analyst_recommendations'), FunctionCall(id='call_2HXd9gABakP0bjmnzXBBcMc3', arguments='{\"ticker_symbol\": \"MSFT\", \"start_date\": \"2025-01-01\", \"end_date\": \"2025-01-18\", \"max_news_num\": 10}', name='get_company_news')], type='ToolCallRequestEvent'), ToolCallExecutionEvent(source='Market_Analyst', models_usage=None, content=[FunctionExecutionResult(content='            Company Name                   Industry      Sector  \\\\\\n0  Microsoft Corporation  Software - Infrastructure  Technology   \\n\\n         Country                    Website  \\n0  United States  https://www.microsoft.com  ', call_id='call_V3baVXCrm7aNoIeEy9VeKtsd'), FunctionExecutionResult(content='                                 Open        High         Low       Close  \\\\\\nDate                                                                        \\n2025-01-13 00:00:00-05:00  415.239990  418.500000  412.290009  417.190002   \\n2025-01-14 00:00:00-05:00  417.809998  419.739990  410.720001  415.670013   \\n2025-01-15 00:00:00-05:00  419.130005  428.149994  418.269989  426.309998   \\n2025-01-16 00:00:00-05:00  428.700012  429.489990  424.390015  424.579987   \\n2025-01-17 00:00:00-05:00  434.089996  434.480011  428.170013  429.029999   \\n\\n                             Volume  Dividends  Stock Splits  \\nDate                                                          \\n2025-01-13 00:00:00-05:00  17604800        0.0           0.0  \\n2025-01-14 00:00:00-05:00  16935900        0.0           0.0  \\n2025-01-15 00:00:00-05:00  19637800        0.0           0.0  \\n2025-01-16 00:00:00-05:00  15300000        0.0           0.0  \\n2025-01-17 00:00:00-05:00  26148000        0.0           0.0  ', call_id='call_YDxYoPOj5sXeZ3x4hXXCBksz'), FunctionExecutionResult(content='                  2021    2022    2023    2024\\nRevenue         168088  198270  211915  245122\\nRevenue Growth  -15.2%   -6.4%  -13.5%   45.8%\\nGross Revenue   115856  135620  146052  171008\\nGross Margin      0.69    0.68    0.69     0.7\\nEBITDA           84348  100239  105140  133009\\nEBITDA Margin      0.5     0.5     0.5    0.54\\nFCF              76740   89035   87582  118548\\nFCF Conversion    1.25    1.22    1.21    1.35\\nROIC             23.5%   26.3%   22.6%   22.3%\\nEV/EBITDA        25.05   19.85   24.54   26.11\\nPE Ratio         33.37   26.47   35.04   38.51\\nPB Ratio          14.4   11.56    12.3   12.64', call_id='call_KI96nZCopZD1cAGziajCldbP'), FunctionExecutionResult(content=\"('buy', 39)\", call_id='call_TqLyE6earWKvGH4RywK8Ace7'), FunctionExecutionResult(content=\"                  date                                           headline  \\\\\\n0  2025-01-15 21:01:24  Biden's executive order on AI data centers cou...   \\n1  2025-01-16 05:37:00  Prediction: 1 Stock That Will Be Worth More Th...   \\n2  2025-01-16 05:45:00  Missed Out on Nvidia? Billionaires Have Been B...   \\n3  2025-01-16 08:40:40  IonQ Soars Over 33% After Microsoft's Bold Cal...   \\n4  2025-01-16 18:05:58  Microsoft 365 Is Adding Copilot AI Tools. It's...   \\n5  2025-01-17 08:45:20  Magnificent 7 Earnings Hinge On AI Payoff: Ana...   \\n6  2025-01-17 09:20:04  Prediction: Microsoft (MSFT) Is Going to Save ...   \\n7  2025-01-18 06:00:00  Possible Stock Splits in 2025: 2 Artificial In...   \\n8  2025-01-18 06:00:00  Possible Stock Splits in 2025: 2 Artificial In...   \\n9  2025-01-18 15:48:56  FTC says partnerships like Microsoft-OpenAI ra...   \\n\\n                                             summary  \\n0  President Joe Biden this week issued one of hi...  \\n1  Nvidia (NVDA 3.40%) has become the second-larg...  \\n2  Nvidia has been one of the best-performing sto...  \\n3  Shares of IonQ Inc. IONQ enjoyed a quantum lea...  \\n4  Microsoft (MSFT) is bringing its Copilot artif...  \\n5  The Magnificent Seven earnings season is here,...  \\n6  [00:00:04] Douglas McIntyre: So Microsoft anno...  \\n7  Companies will commonly split their stock afte...  \\n8  Companies will commonly split their stock afte...  \\n9  The Federal Trade Commission said in a staff r...  \", call_id='call_2HXd9gABakP0bjmnzXBBcMc3')], type='ToolCallExecutionEvent'), ToolCallSummaryMessage(source='Market_Analyst', models_usage=None, content=\"            Company Name                   Industry      Sector  \\\\\\n0  Microsoft Corporation  Software - Infrastructure  Technology   \\n\\n         Country                    Website  \\n0  United States  https://www.microsoft.com  \\n                                 Open        High         Low       Close  \\\\\\nDate                                                                        \\n2025-01-13 00:00:00-05:00  415.239990  418.500000  412.290009  417.190002   \\n2025-01-14 00:00:00-05:00  417.809998  419.739990  410.720001  415.670013   \\n2025-01-15 00:00:00-05:00  419.130005  428.149994  418.269989  426.309998   \\n2025-01-16 00:00:00-05:00  428.700012  429.489990  424.390015  424.579987   \\n2025-01-17 00:00:00-05:00  434.089996  434.480011  428.170013  429.029999   \\n\\n                             Volume  Dividends  Stock Splits  \\nDate                                                          \\n2025-01-13 00:00:00-05:00  17604800        0.0           0.0  \\n2025-01-14 00:00:00-05:00  16935900        0.0           0.0  \\n2025-01-15 00:00:00-05:00  19637800        0.0           0.0  \\n2025-01-16 00:00:00-05:00  15300000        0.0           0.0  \\n2025-01-17 00:00:00-05:00  26148000        0.0           0.0  \\n                  2021    2022    2023    2024\\nRevenue         168088  198270  211915  245122\\nRevenue Growth  -15.2%   -6.4%  -13.5%   45.8%\\nGross Revenue   115856  135620  146052  171008\\nGross Margin      0.69    0.68    0.69     0.7\\nEBITDA           84348  100239  105140  133009\\nEBITDA Margin      0.5     0.5     0.5    0.54\\nFCF              76740   89035   87582  118548\\nFCF Conversion    1.25    1.22    1.21    1.35\\nROIC             23.5%   26.3%   22.6%   22.3%\\nEV/EBITDA        25.05   19.85   24.54   26.11\\nPE Ratio         33.37   26.47   35.04   38.51\\nPB Ratio          14.4   11.56    12.3   12.64\\n('buy', 39)\\n                  date                                           headline  \\\\\\n0  2025-01-15 21:01:24  Biden's executive order on AI data centers cou...   \\n1  2025-01-16 05:37:00  Prediction: 1 Stock That Will Be Worth More Th...   \\n2  2025-01-16 05:45:00  Missed Out on Nvidia? Billionaires Have Been B...   \\n3  2025-01-16 08:40:40  IonQ Soars Over 33% After Microsoft's Bold Cal...   \\n4  2025-01-16 18:05:58  Microsoft 365 Is Adding Copilot AI Tools. It's...   \\n5  2025-01-17 08:45:20  Magnificent 7 Earnings Hinge On AI Payoff: Ana...   \\n6  2025-01-17 09:20:04  Prediction: Microsoft (MSFT) Is Going to Save ...   \\n7  2025-01-18 06:00:00  Possible Stock Splits in 2025: 2 Artificial In...   \\n8  2025-01-18 06:00:00  Possible Stock Splits in 2025: 2 Artificial In...   \\n9  2025-01-18 15:48:56  FTC says partnerships like Microsoft-OpenAI ra...   \\n\\n                                             summary  \\n0  President Joe Biden this week issued one of hi...  \\n1  Nvidia (NVDA 3.40%) has become the second-larg...  \\n2  Nvidia has been one of the best-performing sto...  \\n3  Shares of IonQ Inc. IONQ enjoyed a quantum lea...  \\n4  Microsoft (MSFT) is bringing its Copilot artif...  \\n5  The Magnificent Seven earnings season is here,...  \\n6  [00:00:04] Douglas McIntyre: So Microsoft anno...  \\n7  Companies will commonly split their stock afte...  \\n8  Companies will commonly split their stock afte...  \\n9  The Federal Trade Commission said in a staff r...  \", type='ToolCallSummaryMessage'), TextMessage(source='Market_Analyst', models_usage=RequestUsage(prompt_tokens=1939, completion_tokens=391), content=\"### Positive Developments for Microsoft:\\n \\n1. **AI and Innovation Focus**: Microsoft is actively integrating AI across its products, evident from the introduction of Copilot AI tools in Microsoft 365. This move enhances productivity features and is likely to attract more enterprise clients, reflecting positive innovation growth.\\n\\n2. **Strong Financial Performance**: Microsoft's financial metrics demonstrate robust growth, with revenue increasing to $245.1 billion in 2024 from $198.3 billion in 2022. EBITDA margins have improved, showing financial resilience and operational efficiency.\\n\\n3. **Improved Analyst Sentiment**: Microsoft's stock is predominantly rated as a 'buy' by 39 analysts, indicating high market confidence in the company's future prospects.\\n\\n### Potential Concerns for Microsoft:\\n\\n1. **Regulatory Scrutiny**: The FTC has expressed concerns over partnerships like Microsoft-OpenAI which could raise anti-competitive issues. This scrutiny can lead to potential regulatory hurdles affecting strategic alliances.\\n\\n2. **Dependency on AI Success**: A significant portion of Microsoft's growth expectation hinges on AI advancements. Any setbacks in AI development or market adoption could impact long-term growth trajectories.\\n\\n3. **Market Competition**: Despite positive innovation, the tech sector is highly competitive, with rivals equally investing heavily in AI and cloud services, which might affect Microsoft's market share.\\n\\n### Stock Price Prediction:\\n\\nBased on current developments and market conditions, I predict Microsoft's stock price may rise by approximately 2-3% over the next week. This prediction considers:\\n\\n- **Strong financial growth and analyst sentiment**, suggesting a robust market position that can drive stock appreciation.\\n- **Positive market reception to AI developments**, which could lead to increased investor interest.\\n- **Potential short-term volatility due to regulatory scrutiny**, but nothing immediate suggests a sharp decline in confidence or capability.\\n\\nOverall, Microsoft's strong financial health and innovation in AI tools are likely to outweigh current concerns, fostering a mild uptick in stock price. TERMINATE\", type='TextMessage'), TextMessage(source='Market_Analyst', models_usage=RequestUsage(prompt_tokens=2338, completion_tokens=4), content='TERMINATE', type='TextMessage')], stop_reason='Maximum number of turns 3 reached.')"
      ]
     },
     "execution_count": 9,
     "metadata": {},
     "output_type": "execute_result"
    }
   ],
   "source": [
    "# company = \"Tesla\"\n",
    "company = \"Microsoft\"\n",
    "stream = team.run_stream(task=f\"Use all the tools provided to retrieve information available for {company} upon {get_current_date()}. Analyze the positive developments and potential concerns of {company} \"\n",
    "        \"with 2-4 most important factors respectively and keep them concise. Most factors should be inferred from company related news. \"\n",
    "        f\"Then make a rough prediction (e.g. up/down by 2-3%) of the {company} stock price movement for next week. Provide a summary analysis to support your prediction.\")\n",
    "await Console(stream)"
   ]
  },
  {
   "cell_type": "code",
   "execution_count": null,
   "metadata": {},
   "outputs": [],
   "source": []
  }
 ],
 "metadata": {
  "kernelspec": {
   "display_name": "Python 3",
   "language": "python",
   "name": "python3"
  },
  "language_info": {
   "codemirror_mode": {
    "name": "ipython",
    "version": 3
   },
   "file_extension": ".py",
   "mimetype": "text/x-python",
   "name": "python",
   "nbconvert_exporter": "python",
   "pygments_lexer": "ipython3",
   "version": "3.11.9"
  }
 },
 "nbformat": 4,
 "nbformat_minor": 2
}
