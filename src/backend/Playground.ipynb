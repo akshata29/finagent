{
 "cells": [
  {
   "cell_type": "code",
   "execution_count": 1,
   "metadata": {},
   "outputs": [],
   "source": [
    "from typing import List\n",
    "\n",
    "from autogen_core import AgentId\n",
    "from autogen_core import default_subscription\n",
    "from autogen_ext.models.openai import AzureOpenAIChatCompletionClient\n",
    "from autogen_core.tools import FunctionTool, Tool\n",
    "from typing_extensions import Annotated\n",
    "\n",
    "from agents.base_agent import BaseAgent\n",
    "from context.cosmos_memory import CosmosBufferedChatCompletionContext\n",
    "from helpers.fmputils import *\n",
    "from helpers.yfutils import *\n",
    "from datetime import date, timedelta, datetime\n",
    "from helpers.summarizeutils import summarize, summarizeTopic\n",
    "from helpers.analyzer import *\n",
    "from helpers.reports import ReportLabUtils\n",
    "from helpers.charting import ReportChartUtils\n",
    "from azure.identity import ClientSecretCredential, DefaultAzureCredential\n",
    "from azure.storage.blob import BlobServiceClient, ContentSettings, generate_blob_sas\n",
    "from config import Config\n",
    "import uuid\n",
    "from helpers.azureblob import azureBlobApi"
   ]
  },
  {
   "cell_type": "code",
   "execution_count": 5,
   "metadata": {},
   "outputs": [],
   "source": [
    "async def copyReport(tenantId, clientId, clientSecret, blobAccountName, downloadPath, blobName, openAiBlobContainer):\n",
    "    try:\n",
    "        with open(downloadPath, \"rb\") as file:\n",
    "            readBytes = file.read()\n",
    "        credentials = ClientSecretCredential(tenantId, clientId, clientSecret)\n",
    "        blobService = BlobServiceClient(\n",
    "                \"https://{}.blob.core.windows.net\".format(blobAccountName), credential=credentials)\n",
    "        blobClient = blobService.get_blob_client(container=openAiBlobContainer, blob=blobName)\n",
    "        blobClient.upload_blob(readBytes,overwrite=True)\n",
    "        return blobClient.url\n",
    "    except Exception as e:\n",
    "        print(\"Error in copyReport: \", e)\n",
    "        return None"
   ]
  },
  {
   "cell_type": "code",
   "execution_count": 7,
   "metadata": {},
   "outputs": [
    {
     "name": "stdout",
     "output_type": "stream",
     "text": [
      "Local File Name:  reports\\MSFT_Equity_Research_report.pdf\n",
      "Blob File Name:  b8990f6a-29e3-40c9-8ccf-98b1613ee2e4_MSFTEquity_Research_report.pdf\n",
      "Blob api key found successfully.\n",
      "Blob URL:  https://astdnapubstor.blob.core.windows.net/reports/b8990f6a-29e3-40c9-8ccf-98b1613ee2e4_MSFTEquity_Research_report.pdf\n"
     ]
    }
   ],
   "source": [
    "ticker_symbol = \"MSFT\"\n",
    "\n",
    "blobFileName = \"{}_{}Equity_Research_report.pdf\".format(str(uuid.uuid4()), ticker_symbol)\n",
    "localFileName = \"reports\\\\{}_Equity_Research_report.pdf\".format(ticker_symbol)\n",
    "print(\"Local File Name: \", localFileName)\n",
    "print(\"Blob File Name: \", blobFileName)\n",
    "\n",
    "blobUrl = azureBlobApi.copyReport(\"reports\\\\{}_Equity_Research_report.pdf\".format(ticker_symbol), blobFileName)\n",
    "\n",
    "print(\"Blob URL: \", blobUrl)\n"
   ]
  },
  {
   "cell_type": "code",
   "execution_count": 2,
   "metadata": {},
   "outputs": [
    {
     "name": "stdout",
     "output_type": "stream",
     "text": [
      "****************\n",
      "reportDir:  /app/backend/reports/\n",
      "****************\n"
     ]
    }
   ],
   "source": [
    "if Config.APP_IN_CONTAINER:\n",
    "    reportDir = \"/app/backend/reports/\"\n",
    "else:\n",
    "    reportDir = \"reports\\\\\"\n",
    "\n",
    "print(\"****************\")\n",
    "print(\"reportDir: \", reportDir)\n",
    "print(\"****************\")"
   ]
  },
  {
   "cell_type": "code",
   "execution_count": null,
   "metadata": {},
   "outputs": [],
   "source": []
  }
 ],
 "metadata": {
  "kernelspec": {
   "display_name": "Python 3",
   "language": "python",
   "name": "python3"
  },
  "language_info": {
   "codemirror_mode": {
    "name": "ipython",
    "version": 3
   },
   "file_extension": ".py",
   "mimetype": "text/x-python",
   "name": "python",
   "nbconvert_exporter": "python",
   "pygments_lexer": "ipython3",
   "version": "3.11.9"
  }
 },
 "nbformat": 4,
 "nbformat_minor": 2
}
